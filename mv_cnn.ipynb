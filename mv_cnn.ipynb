{
 "cells": [
  {
   "cell_type": "markdown",
   "metadata": {},
   "source": [
    "# 3D Classification Mini-Project\n",
    "\n",
    "## Jonathan Cohen, 203372032"
   ]
  },
  {
   "cell_type": "code",
   "execution_count": null,
   "metadata": {
    "colab": {
     "base_uri": "https://localhost:8080/",
     "height": 173
    },
    "colab_type": "code",
    "id": "CD-ymxumArPm",
    "outputId": "a62b7fb2-eca4-47cc-a214-060b29531eb3"
   },
   "outputs": [
    {
     "name": "stdout",
     "output_type": "stream",
     "text": [
      "Requirement already satisfied: keras-layer-normalization in /usr/local/lib/python3.6/dist-packages (0.14.0)\n",
      "Requirement already satisfied: Keras in /usr/local/lib/python3.6/dist-packages (from keras-layer-normalization) (2.3.1)\n",
      "Requirement already satisfied: numpy in /usr/local/lib/python3.6/dist-packages (from keras-layer-normalization) (1.18.5)\n",
      "Requirement already satisfied: scipy>=0.14 in /usr/local/lib/python3.6/dist-packages (from Keras->keras-layer-normalization) (1.4.1)\n",
      "Requirement already satisfied: keras-applications>=1.0.6 in /usr/local/lib/python3.6/dist-packages (from Keras->keras-layer-normalization) (1.0.8)\n",
      "Requirement already satisfied: six>=1.9.0 in /usr/local/lib/python3.6/dist-packages (from Keras->keras-layer-normalization) (1.15.0)\n",
      "Requirement already satisfied: keras-preprocessing>=1.0.5 in /usr/local/lib/python3.6/dist-packages (from Keras->keras-layer-normalization) (1.1.2)\n",
      "Requirement already satisfied: pyyaml in /usr/local/lib/python3.6/dist-packages (from Keras->keras-layer-normalization) (3.13)\n",
      "Requirement already satisfied: h5py in /usr/local/lib/python3.6/dist-packages (from Keras->keras-layer-normalization) (2.10.0)\n"
     ]
    }
   ],
   "source": [
    "! pip install keras-layer-normalization"
   ]
  },
  {
   "cell_type": "code",
   "execution_count": null,
   "metadata": {
    "colab": {},
    "colab_type": "code",
    "id": "CGoLsVTiPnDX"
   },
   "outputs": [],
   "source": [
    "import numpy as np\n",
    "import matplotlib.pyplot as plt\n",
    "import importlib\n",
    "import json\n",
    "from os import path\n",
    "from datetime import datetime\n",
    "\n",
    "importlib.import_module('mpl_toolkits.mplot3d').Axes3D\n",
    "\n",
    "from tqdm import tqdm\n",
    "\n",
    "from google.colab import drive\n",
    "\n",
    "from __future__ import print_function\n",
    "import keras\n",
    "import keras.models as models\n",
    "import keras.layers as layes\n",
    "from keras.models import Sequential\n",
    "from keras.layers import Dense, Dropout, Flatten,Conv2D, MaxPooling2D,\\\n",
    "  BatchNormalization, GlobalAveragePooling2D\n",
    "from keras_layer_normalization import LayerNormalization\n",
    "\n",
    "from sklearn.metrics import classification_report, confusion_matrix\n",
    "\n",
    "from keras import backend, layers, models"
   ]
  },
  {
   "cell_type": "code",
   "execution_count": null,
   "metadata": {
    "colab": {},
    "colab_type": "code",
    "id": "T-5hokHZ7j2W"
   },
   "outputs": [],
   "source": [
    "num_of_angels = 6\n",
    "num_of_views = num_of_angels + 1  # above\n",
    "# num_of_views = num_of_angels + 2  # above + below\n",
    "theta = (2 * np.pi) / num_of_angels\n",
    "batch_size = 128\n",
    "num_classes = 10\n",
    "epochs = 25\n",
    "img_rows = img_cols = 32\n",
    "input_shape = (img_rows, img_cols, 1)\n",
    "\n",
    "np.random.seed(0)\n",
    "\n",
    "my_drive_modelnet_dir = 'drive/My Drive/modelnet10'\n",
    "\n",
    "category_names = {\n",
    "    0: \"bathtub\",\n",
    "    1: \"bed\",\n",
    "    2: \"chair\",\n",
    "    3: \"desk\",\n",
    "    4: \"dresser\",\n",
    "    5: \"monitor\",\n",
    "    6: \"night-stand\",\n",
    "    7: \"sofa\",\n",
    "    8: \"table\",\n",
    "    9: \"toilet\",\n",
    "}\n",
    "categories = [category_names[i] for i in range(num_classes)]"
   ]
  },
  {
   "cell_type": "code",
   "execution_count": null,
   "metadata": {
    "colab": {},
    "colab_type": "code",
    "id": "afELZIFRPq9b"
   },
   "outputs": [],
   "source": [
    "# prepare image set\n",
    "\n",
    "def load():\n",
    "    # drive.mount('/content/drive')\n",
    "    ds = np.load('{}/modelnet10_train.npz'.format(my_drive_modelnet_dir))    \n",
    "    samples = ds['samples']\n",
    "    labels = ds['labels']\n",
    "    return samples, labels\n",
    "\n",
    "\n",
    "def get_photos_labels(force_reload=False):\n",
    "    samples, labels = load()\n",
    "\n",
    "    photos_path = '{}/photos.json'.format(my_drive_modelnet_dir)\n",
    "    if path.exists(photos_path) and not force_reload:\n",
    "        with open(photos_path, 'r') as f:\n",
    "            photos = json.load(f)\n",
    "        return photos, labels\n",
    "\n",
    "    im = np.zeros((32, 32))\n",
    "    lin = np.linspace(0, 31, 32)\n",
    "\n",
    "    _photos = []\n",
    "\n",
    "    print(\"len(samples): \", len(samples))\n",
    "    for _i in tqdm(range(len(samples))):\n",
    "        pc = samples[_i]\n",
    "        vol = pointcloud2volume(pc)\n",
    "        \n",
    "        # one from above\n",
    "        for y in range(32):\n",
    "            for z in range(32):\n",
    "                im[y, z] = np.argmax(np.multiply(vol[y, z, :], lin))\n",
    "        _photos.append(im.astype(np.int).tolist())\n",
    "\n",
    "        # one from below\n",
    "        # for y in range(32):\n",
    "        #     for z in range(32):\n",
    "        #         flipped_vol = np.flip(vol)\n",
    "        #         im[y, z] = np.argmax(np.multiply(flipped_vol[y, z, :], lin))\n",
    "        # _photos.append(im.astype(np.int).tolist())\n",
    "\n",
    "        # n from side angles\n",
    "        for i in range(0, num_of_angels):\n",
    "            pc = rotate(pc, theta)\n",
    "            vol = pointcloud2volume(pc)\n",
    "\n",
    "            for y in range(32):\n",
    "                for z in range(32):\n",
    "                    im[y, z] = np.argmax(np.multiply(vol[:, y, z], lin))\n",
    "            im = np.rot90(im)\n",
    "            _photos.append(im.astype(np.int).tolist())\n",
    "          \n",
    "    print(\"len(_photos): \", len(_photos))\n",
    "    with open(photos_path, 'w') as f:\n",
    "        json.dump(_photos, f)\n",
    "\n",
    "    return _photos, labels"
   ]
  },
  {
   "cell_type": "code",
   "execution_count": null,
   "metadata": {
    "colab": {},
    "colab_type": "code",
    "id": "UWVeMU2Cn4uF"
   },
   "outputs": [],
   "source": [
    "# point cloud\n",
    "\n",
    "def pointcloud2volume(pc, dim=32):\n",
    "    vol = np.zeros((dim, dim, dim))\n",
    "    bins = np.linspace(-0.000001, 1.0001, 33)\n",
    "    sides = [(0,0,1),(1,0,0),(0,1,0)]\n",
    "    for point in pc:\n",
    "\n",
    "        i = np.digitize(point, bins) - 1\n",
    "        vol[i[0], i[1], i[2]] = 1\n",
    "        for side in sides:\n",
    "            try:\n",
    "                vol[i[0]+side[0], i[1]+side[1], i[2]+side[2]] = 1\n",
    "            except IndexError:\n",
    "                pass\n",
    "            try:\n",
    "                vol[i[0]-side[0], i[1]-side[1], i[2]-side[2]] = 1\n",
    "            except IndexError:\n",
    "                pass\n",
    "\n",
    "    vol = np.flip(vol.T)\n",
    "    vol = (vol == 1)\n",
    "    return vol\n"
   ]
  },
  {
   "cell_type": "code",
   "execution_count": null,
   "metadata": {
    "colab": {},
    "colab_type": "code",
    "id": "AvX1u2S3rzFD"
   },
   "outputs": [],
   "source": [
    "# rotate\n",
    "\n",
    "def _move_to_origin(pc):\n",
    "    z = np.sum(pc[:, 2]) / len(pc)\n",
    "    y = np.sum(pc[:, 1]) / len(pc)\n",
    "    pc[:, 2] -= z\n",
    "    pc[:, 1] -= y\n",
    "    return pc\n",
    "\n",
    "\n",
    "def _move_back_from_origin(pc):\n",
    "    # move to positive space\n",
    "    z_min = np.min(pc[:, 2])\n",
    "    y_min = np.min(pc[:, 1])\n",
    "    if z_min < 0:\n",
    "        pc[:, 2] += (-z_min + 0.0001)\n",
    "\n",
    "    if y_min < 0:\n",
    "        pc[:, 1] += (-y_min + 0.0001)\n",
    "\n",
    "    return pc\n",
    "\n",
    "\n",
    "def _normalize_to_unit_cube(pc):\n",
    "    z = pc[:, 2].max()\n",
    "    if z > 1:\n",
    "        pc *= (0.9/z)\n",
    "\n",
    "    y = pc[:, 1].max()\n",
    "    if y > 1:\n",
    "        pc *= (0.9/y)\n",
    "\n",
    "    return pc\n",
    "\n",
    "\n",
    "def _move_to_center(pc):\n",
    "\n",
    "    y_margin = 1 - np.max(pc[:, 1])\n",
    "    z_margin = 1 - np.max(pc[:, 2])\n",
    "\n",
    "    pc[:, 1] += (y_margin/2)\n",
    "    pc[:, 2] += (z_margin/2)\n",
    "\n",
    "    return pc\n",
    "\n",
    "\n",
    "def _rotate_around_x_axes(pc, theta):\n",
    "    rotation_mat = np.array(\n",
    "        [[np.cos(theta), -np.sin(theta)],\n",
    "         [np.sin(theta), np.cos(theta)]], dtype=np.float32)\n",
    "\n",
    "    pc_xy = pc[:, 1:3]\n",
    "    rotated = (rotation_mat @ pc_xy.T).T\n",
    "    pc[:, 1:3] = rotated\n",
    "    return pc\n",
    "\n",
    "\n",
    "def rotate(pc, theta):\n",
    "    pc = _move_to_origin(pc)\n",
    "    pc = _rotate_around_x_axes(pc, theta)\n",
    "    pc = _move_back_from_origin(pc)\n",
    "    pc = _normalize_to_unit_cube(pc)\n",
    "    pc = _move_to_center(pc)\n",
    "    return pc\n"
   ]
  },
  {
   "cell_type": "code",
   "execution_count": null,
   "metadata": {
    "colab": {
     "base_uri": "https://localhost:8080/",
     "height": 69
    },
    "colab_type": "code",
    "id": "LSsqbTcns0X9",
    "outputId": "a4222518-21eb-41fa-c6fe-35acedefa703"
   },
   "outputs": [
    {
     "name": "stderr",
     "output_type": "stream",
     "text": [
      "\r",
      "  0%|          | 0/3991 [00:00<?, ?it/s]"
     ]
    },
    {
     "name": "stdout",
     "output_type": "stream",
     "text": [
      "len(samples):  3991\n"
     ]
    },
    {
     "name": "stderr",
     "output_type": "stream",
     "text": [
      "100%|██████████| 3991/3991 [37:56<00:00,  1.75it/s]\n"
     ]
    },
    {
     "name": "stdout",
     "output_type": "stream",
     "text": [
      "len(_photos):  27937\n"
     ]
    }
   ],
   "source": [
    "# prepare the data for keras\n",
    "photos, labels = get_photos_labels(force_reload=False)\n",
    "x_train_size = 3200  # 3200 =~ 0.8*3991\n",
    "x_train = []\n",
    "x_test = []\n",
    "x_total = []\n",
    "for i in range(num_of_views):\n",
    "    theta_i = photos[i::num_of_views]\n",
    "    theta_i = np.array(theta_i, dtype=np.float32)\n",
    "    theta_i /= 31\n",
    "    theta_i = theta_i.reshape(theta_i.shape[0], img_rows, img_cols, 1)\n",
    "\n",
    "    theta_i_x_train, theta_i_x_test = theta_i[:x_train_size], theta_i[x_train_size:]\n",
    "    x_train.append(theta_i_x_train)\n",
    "    x_test.append(theta_i_x_test)\n",
    "    x_total.append(theta_i)\n"
   ]
  },
  {
   "cell_type": "code",
   "execution_count": null,
   "metadata": {
    "colab": {
     "base_uri": "https://localhost:8080/",
     "height": 52
    },
    "colab_type": "code",
    "id": "AyPZ8vxyxHAC",
    "outputId": "2d9f35dd-4af3-40d4-9420-0d28e63b30dc"
   },
   "outputs": [
    {
     "name": "stdout",
     "output_type": "stream",
     "text": [
      "len(y_train): 3200\n",
      "len(y_test): 791\n"
     ]
    }
   ],
   "source": [
    "# prepare the labels for keras\n",
    "\n",
    "y_train, y_test = labels[:x_train_size], labels[x_train_size:]\n",
    "y_train = keras.utils.to_categorical(y_train, num_classes)\n",
    "y_test = keras.utils.to_categorical(y_test, num_classes)\n",
    "\n",
    "print(\"len(y_train):\", len(y_train))\n",
    "print(\"len(y_test):\", len(y_test))"
   ]
  },
  {
   "cell_type": "code",
   "execution_count": null,
   "metadata": {
    "colab": {},
    "colab_type": "code",
    "id": "JqjtRrDXdP_e"
   },
   "outputs": [],
   "source": [
    "# Keras's official DenseNet, with some minor adjustments:\n",
    "# removing some BatchNormalization layers\n",
    "# adding name_suffix so that every view will have different layer names\n",
    "\n",
    "def conv_block(x, growth_rate, name):\n",
    "    bn_axis = 3 if backend.image_data_format() == 'channels_last' else 1\n",
    "    x1 = layers.Activation('relu', name=name + '_0_relu')(x)\n",
    "    x1 = layers.Conv2D(4 * growth_rate, 1,\n",
    "                       use_bias=False,\n",
    "                       name=name + '_1_conv')(x1)\n",
    "    x1 = layers.Activation('relu', name=name + '_1_relu')(x1)\n",
    "    x1 = layers.Conv2D(growth_rate, 3,\n",
    "                       padding='same',\n",
    "                       use_bias=False,\n",
    "                       name=name + '_2_conv')(x1)\n",
    "    x = layers.Concatenate(axis=bn_axis, name=name + '_concat')([x, x1])\n",
    "    return x\n",
    "\n",
    "def dense_block(x, blocks, name):\n",
    "    for i in range(blocks):\n",
    "        x = conv_block(x, 32, name=name + '_block' + str(i + 1))\n",
    "    return x\n",
    "\n",
    "def transition_block(x, reduction, name):\n",
    "    bn_axis = 3 if backend.image_data_format() == 'channels_last' else 1\n",
    "    x = layers.Activation('relu', name=name + '_relu')(x)\n",
    "    x = layers.Conv2D(int(backend.int_shape(x)[bn_axis] * reduction), 1,\n",
    "                      use_bias=False,\n",
    "                      name=name + '_conv')(x)\n",
    "    x = layers.AveragePooling2D(2, strides=2, name=name + '_pool')(x)\n",
    "    return x\n",
    "\n",
    "def DenseNet(blocks,\n",
    "             include_top=True,\n",
    "             weights='imagenet',\n",
    "             input_shape=None,\n",
    "             pooling=None,\n",
    "             name_suffix=None,\n",
    "             inp=None):\n",
    "    \n",
    "    # Determine proper input shape\n",
    "    input_shape = (img_rows, img_cols, 1)\n",
    "    img_input = inp if inp is not None else keras.layers.Input(shape=input_shape)\n",
    "    bn_axis = 3\n",
    "\n",
    "    x = keras.layers.ZeroPadding2D(padding=((3, 3), (3, 3)))(img_input)\n",
    "    x = keras.layers.Conv2D(64, 7, strides=2, use_bias=False, name='conv1/conv'+name_suffix)(x)\n",
    "    x = keras.layers.Activation('relu', name='conv1/relu'+name_suffix)(x)\n",
    "    x = keras.layers.ZeroPadding2D(padding=((1, 1), (1, 1)))(x)\n",
    "    x = keras.layers.MaxPooling2D(3, strides=2, name='pool1'+name_suffix)(x)\n",
    "\n",
    "    x = dense_block(x, blocks[0], name='conv2'+name_suffix)\n",
    "    x = transition_block(x, 0.5, name='pool2'+name_suffix)\n",
    "    x = dense_block(x, blocks[1], name='conv3'+name_suffix)\n",
    "    x = transition_block(x, 0.5, name='pool3'+name_suffix)\n",
    "    x = dense_block(x, blocks[2], name='conv4'+name_suffix)\n",
    "    x = transition_block(x, 0.5, name='pool4'+name_suffix)\n",
    "    x = dense_block(x, blocks[3], name='conv5'+name_suffix)\n",
    "\n",
    "    x = keras.layers.Activation('relu', name='relu'+name_suffix)(x)\n",
    "\n",
    "    if pooling == 'avg':\n",
    "        x = keras.layers.GlobalAveragePooling2D(name='avg_pool'+name_suffix)(x)\n",
    "    elif pooling == 'max':\n",
    "        x = keras.layers.GlobalMaxPooling2D(name='max_pool'+name_suffix)(x)\n",
    "\n",
    "    return x"
   ]
  },
  {
   "cell_type": "code",
   "execution_count": null,
   "metadata": {
    "colab": {},
    "colab_type": "code",
    "id": "tli_uKNGBelo"
   },
   "outputs": [],
   "source": [
    "# prepare the model\n",
    "\n",
    "inputs = [keras.Input(shape=(img_rows, img_cols, 1)) for i in range(num_of_views)]\n",
    "inputs2 = []\n",
    "outputs = []\n",
    "\n",
    "method = 'my_dense_111'\n",
    "for i, inp in enumerate(inputs):\n",
    "    if method == 'my_dense':\n",
    "      x = Conv2D(32, kernel_size=(3, 3), activation='relu', input_shape=input_shape)(inp)\n",
    "      x1 = Conv2D(32, kernel_size=(3, 3), activation='relu', input_shape=input_shape, padding='same')(x)\n",
    "      x = layers.Concatenate(axis=3)([x, x1])\n",
    "      x = MaxPooling2D(pool_size=(2, 2))(x)\n",
    "      x = Dropout(0.25)(x)\n",
    "      x1 = Conv2D(64, (3, 3), activation='relu', padding='same')(x)\n",
    "      x = layers.Concatenate(axis=3)([x, x1])\n",
    "      x = Conv2D(64, (3, 3), activation='relu')(x)\n",
    "      x = MaxPooling2D(pool_size=(2, 2))(x)\n",
    "      x = Dropout(0.25)(x)\n",
    "\n",
    "    elif method == 'densenet':\n",
    "      x = DenseNet([6,12,24,16],\n",
    "             include_top=False,\n",
    "             weights=None,\n",
    "             input_shape=input_shape,\n",
    "             pooling=None,\n",
    "             name_suffix=str(i),\n",
    "             inp=inp)\n",
    "      x = Dropout(0.25)(x)\n",
    "    \n",
    "    else:\n",
    "      x = Conv2D(32, kernel_size=(3, 3), activation='relu', input_shape=input_shape)(inp)\n",
    "      x = Conv2D(32, kernel_size=(3, 3), activation='relu')(x)\n",
    "      x = MaxPooling2D(pool_size=(2, 2))(x)\n",
    "      x = Dropout(0.25)(x)\n",
    "      x = Conv2D(64, (3, 3), activation='relu')(x)\n",
    "      x = Conv2D(64, (3, 3), activation='relu')(x)\n",
    "      x = MaxPooling2D(pool_size=(2, 2))(x)\n",
    "      x = Dropout(0.25)(x)\n",
    "\n",
    "    x = LayerNormalization()(x)\n",
    "    x = Flatten()(x)\n",
    "    x = Dense(128, activation='relu')(x)\n",
    "    x = Dropout(0.25)(x)\n",
    "    \n",
    "    x = keras.Model(inputs=inp, outputs=x)\n",
    "    outputs.append(x.output)\n",
    "    inputs2.append(x.input)\n",
    "\n",
    "combined = keras.layers.concatenate(outputs)\n",
    "\n",
    "z = Dense(256, activation='relu')(combined)  # TODO maybe 512 here\n",
    "z = Dropout(0.25)(z)\n",
    "z = Dense(256, activation='relu')(z)\n",
    "z = Dense(num_classes, activation='softmax')(z)\n",
    "\n",
    "model = keras.Model(inputs=inputs2, outputs=z)\n",
    "\n",
    "model.compile(loss=keras.losses.categorical_crossentropy,\n",
    "              optimizer=keras.optimizers.Adadelta(),\n",
    "              metrics=['accuracy'])\n",
    "\n"
   ]
  },
  {
   "cell_type": "code",
   "execution_count": null,
   "metadata": {
    "colab": {
     "base_uri": "https://localhost:8080/",
     "height": 901
    },
    "colab_type": "code",
    "id": "paxmhpBHbAoZ",
    "outputId": "d611b502-b167-4801-a8ae-c8426cc02e9e"
   },
   "outputs": [
    {
     "name": "stdout",
     "output_type": "stream",
     "text": [
      "Train on 3200 samples, validate on 791 samples\n",
      "Epoch 2/25\n",
      "3200/3200 [==============================] - 74s 23ms/step - loss: 1.0187 - accuracy: 0.6622 - val_loss: 0.9056 - val_accuracy: 0.7573\n",
      "Epoch 3/25\n",
      "3200/3200 [==============================] - 70s 22ms/step - loss: 0.4502 - accuracy: 0.8369 - val_loss: 0.7015 - val_accuracy: 0.8053\n",
      "Epoch 4/25\n",
      "3200/3200 [==============================] - 70s 22ms/step - loss: 0.3260 - accuracy: 0.8822 - val_loss: 0.2939 - val_accuracy: 0.8989\n",
      "Epoch 5/25\n",
      "3200/3200 [==============================] - 69s 22ms/step - loss: 0.2724 - accuracy: 0.9072 - val_loss: 0.3200 - val_accuracy: 0.9077\n",
      "Epoch 6/25\n",
      "3200/3200 [==============================] - 70s 22ms/step - loss: 0.2066 - accuracy: 0.9266 - val_loss: 0.1951 - val_accuracy: 0.9368\n",
      "Epoch 7/25\n",
      "3200/3200 [==============================] - 69s 22ms/step - loss: 0.1848 - accuracy: 0.9331 - val_loss: 0.1704 - val_accuracy: 0.9482\n",
      "Epoch 8/25\n",
      "3200/3200 [==============================] - 69s 22ms/step - loss: 0.1579 - accuracy: 0.9419 - val_loss: 0.3577 - val_accuracy: 0.8989\n",
      "Epoch 9/25\n",
      "3200/3200 [==============================] - 69s 22ms/step - loss: 0.1595 - accuracy: 0.9388 - val_loss: 0.2090 - val_accuracy: 0.9292\n",
      "Epoch 10/25\n",
      "3200/3200 [==============================] - 73s 23ms/step - loss: 0.1272 - accuracy: 0.9525 - val_loss: 0.1990 - val_accuracy: 0.9368\n",
      "Epoch 11/25\n",
      "3200/3200 [==============================] - 69s 22ms/step - loss: 0.1201 - accuracy: 0.9547 - val_loss: 0.1810 - val_accuracy: 0.9330\n",
      "Epoch 12/25\n",
      "3200/3200 [==============================] - 71s 22ms/step - loss: 0.1096 - accuracy: 0.9575 - val_loss: 0.1682 - val_accuracy: 0.9343\n",
      "Epoch 13/25\n",
      "3200/3200 [==============================] - 70s 22ms/step - loss: 0.0991 - accuracy: 0.9606 - val_loss: 0.1399 - val_accuracy: 0.9456\n",
      "Epoch 14/25\n",
      "3200/3200 [==============================] - 69s 22ms/step - loss: 0.0955 - accuracy: 0.9619 - val_loss: 0.1821 - val_accuracy: 0.9494\n",
      "Epoch 15/25\n",
      "3200/3200 [==============================] - 70s 22ms/step - loss: 0.0883 - accuracy: 0.9650 - val_loss: 0.1839 - val_accuracy: 0.9431\n",
      "Epoch 16/25\n",
      "3200/3200 [==============================] - 70s 22ms/step - loss: 0.0753 - accuracy: 0.9712 - val_loss: 0.1413 - val_accuracy: 0.9532\n",
      "Epoch 17/25\n",
      "3200/3200 [==============================] - 70s 22ms/step - loss: 0.0859 - accuracy: 0.9638 - val_loss: 0.2263 - val_accuracy: 0.9355\n",
      "Epoch 18/25\n",
      "3200/3200 [==============================] - 69s 22ms/step - loss: 0.0771 - accuracy: 0.9684 - val_loss: 0.1622 - val_accuracy: 0.9583\n",
      "Epoch 19/25\n",
      "3200/3200 [==============================] - 73s 23ms/step - loss: 0.0698 - accuracy: 0.9716 - val_loss: 0.1604 - val_accuracy: 0.9482\n",
      "Epoch 20/25\n",
      "3200/3200 [==============================] - 70s 22ms/step - loss: 0.0614 - accuracy: 0.9775 - val_loss: 0.1831 - val_accuracy: 0.9469\n",
      "Epoch 21/25\n",
      "3200/3200 [==============================] - 70s 22ms/step - loss: 0.0654 - accuracy: 0.9725 - val_loss: 0.1844 - val_accuracy: 0.9482\n",
      "Epoch 22/25\n",
      "3200/3200 [==============================] - 69s 22ms/step - loss: 0.0791 - accuracy: 0.9712 - val_loss: 0.1465 - val_accuracy: 0.9545\n",
      "Epoch 23/25\n",
      "3200/3200 [==============================] - 70s 22ms/step - loss: 0.0515 - accuracy: 0.9778 - val_loss: 0.1575 - val_accuracy: 0.9558\n",
      "Epoch 24/25\n",
      "3200/3200 [==============================] - 69s 22ms/step - loss: 0.0526 - accuracy: 0.9787 - val_loss: 0.2198 - val_accuracy: 0.9558\n",
      "Epoch 25/25\n",
      "3200/3200 [==============================] - 70s 22ms/step - loss: 0.0442 - accuracy: 0.9828 - val_loss: 0.1618 - val_accuracy: 0.9507\n",
      "Test loss: 0.1617502052920921\n",
      "Test accuracy: 0.9506953358650208\n"
     ]
    }
   ],
   "source": [
    "# train the model\n",
    "history = model.fit(x_train, y_train,\n",
    "          batch_size=batch_size,\n",
    "          epochs=epochs,\n",
    "          verbose=1,\n",
    "          validation_data=(x_test, y_test),\n",
    "          initial_epoch=1)\n",
    "score = model.evaluate(x_test, y_test, verbose=0)\n",
    "model.save('{}/saved_model_{}'.format(my_drive_modelnet_dir, datetime.now()))\n",
    "print('Test loss:', score[0])\n",
    "print('Test accuracy:', score[1])\n"
   ]
  },
  {
   "cell_type": "code",
   "execution_count": null,
   "metadata": {
    "colab": {
     "base_uri": "https://localhost:8080/",
     "height": 313
    },
    "colab_type": "code",
    "id": "aqTNMHUs2cNq",
    "outputId": "9d782a71-ad7c-4e06-9e03-8b5218370080"
   },
   "outputs": [
    {
     "data": {
      "text/plain": [
       "<matplotlib.legend.Legend at 0x7f3c30258f98>"
      ]
     },
     "execution_count": 12,
     "metadata": {
      "tags": []
     },
     "output_type": "execute_result"
    },
    {
     "data": {
      "image/png": "[encoded data removed]",
      "text/plain": [
       "<Figure size 1152x288 with 2 Axes>"
      ]
     },
     "metadata": {
      "needs_background": "light",
      "tags": []
     },
     "output_type": "display_data"
    }
   ],
   "source": [
    "fig, ax = plt.subplots(1, 2, figsize=(16, 4))\n",
    "epoch_time = 42\n",
    "h1 = history.history\n",
    "ax[0].plot(h1['accuracy'])\n",
    "ax[0].plot(h1['val_accuracy'])\n",
    "ax[0].set_title('model accuracy')\n",
    "ax[0].set_ylabel('accuracy')\n",
    "ax[0].set_xlabel('epoch')\n",
    "ax[0].legend(['train', 'val'], loc='lower right')\n",
    "\n",
    "ax[1].plot(h1['loss'])\n",
    "ax[1].plot(h1['val_loss'])\n",
    "ax[1].set_title('model loss')\n",
    "ax[1].set_ylabel('loss')\n",
    "ax[1].set_xlabel('epoch')\n",
    "ax[1].legend(['train', 'val'], loc='upper left')"
   ]
  },
  {
   "cell_type": "code",
   "execution_count": null,
   "metadata": {
    "colab": {
     "base_uri": "https://localhost:8080/",
     "height": 191
    },
    "colab_type": "code",
    "id": "d-plyGip33NF",
    "outputId": "4cfba3b4-843c-4814-98e6-16cf103f402a"
   },
   "outputs": [
    {
     "data": {
      "text/plain": [
       "[[104, 0, 0, 0, 0, 0, 0, 1, 0, 1],\n",
       " [1, 508, 1, 0, 0, 0, 1, 3, 0, 1],\n",
       " [0, 0, 889, 0, 0, 0, 0, 0, 0, 0],\n",
       " [0, 0, 0, 196, 0, 0, 1, 1, 2, 0],\n",
       " [0, 0, 0, 0, 177, 0, 23, 0, 0, 0],\n",
       " [0, 0, 1, 0, 1, 459, 3, 1, 0, 0],\n",
       " [0, 0, 0, 0, 9, 0, 183, 0, 8, 0],\n",
       " [0, 0, 0, 0, 0, 0, 0, 680, 0, 0],\n",
       " [0, 0, 0, 11, 0, 0, 1, 0, 380, 0],\n",
       " [0, 0, 1, 0, 1, 0, 0, 0, 0, 342]]"
      ]
     },
     "execution_count": 13,
     "metadata": {
      "tags": []
     },
     "output_type": "execute_result"
    }
   ],
   "source": [
    "preds = []\n",
    "for i in range(len(x_total[0])):\n",
    "  keras_input = [view[i].reshape(1,img_rows,img_cols,1) for view in x_total]\n",
    "  pred_vector = model.predict(keras_input)[0]\n",
    "  pred = np.argmax(pred_vector)\n",
    "  preds.append(pred)\n",
    "\n",
    "conf_mat = confusion_matrix(labels, preds)\n",
    "conf_mat.tolist()"
   ]
  },
  {
   "cell_type": "code",
   "execution_count": null,
   "metadata": {
    "colab": {
     "base_uri": "https://localhost:8080/",
     "height": 970
    },
    "colab_type": "code",
    "id": "icbIfrhe_GAM",
    "outputId": "37554045-2559-432b-d9e3-bd772dc458ef"
   },
   "outputs": [
    {
     "data": {
      "image/png": "[encoded data removed]",
      "text/plain": [
       "<Figure size 1440x720 with 1 Axes>"
      ]
     },
     "metadata": {
      "needs_background": "light",
      "tags": []
     },
     "output_type": "display_data"
    }
   ],
   "source": [
    "cell_text = [[str(x) for x in row] for row in conf_mat]\n",
    "fig, axs =plt.subplots(1,1, figsize=(20,10))\n",
    "axs.axis('tight')\n",
    "axs.axis('off')\n",
    "table = axs.table(cellText=cell_text,\n",
    "          rowLabels=categories,\n",
    "          colLabels=categories,\n",
    "          loc='top')\n",
    "table.scale(0.5,3)\n",
    "table.set_fontsize(20)"
   ]
  }
 ],
 "metadata": {
  "colab": {
   "collapsed_sections": [],
   "name": "mv_cnn.ipynb",
   "provenance": []
  },
  "kernelspec": {
   "display_name": "Python 3",
   "language": "python",
   "name": "python3"
  },
  "language_info": {
   "codemirror_mode": {
    "name": "ipython",
    "version": 3
   },
   "file_extension": ".py",
   "mimetype": "text/x-python",
   "name": "python",
   "nbconvert_exporter": "python",
   "pygments_lexer": "ipython3",
   "version": "3.5.2"
  }
 },
 "nbformat": 4,
 "nbformat_minor": 1
}
